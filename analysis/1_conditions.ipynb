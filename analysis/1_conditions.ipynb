{
 "cells": [
  {
   "cell_type": "code",
   "execution_count": 1,
   "id": "c2d59371-51de-46b1-85cb-e9cd6d6d8a00",
   "metadata": {},
   "outputs": [],
   "source": [
    "import random\n",
    "\n",
    "import pandas as pd"
   ]
  },
  {
   "cell_type": "markdown",
   "id": "4432e973-f919-40da-ab86-0451651be816",
   "metadata": {},
   "source": [
    "# initialize sanity checking metrics"
   ]
  },
  {
   "cell_type": "code",
   "execution_count": 2,
   "id": "47f70327-d56f-4cea-8ec1-96f849d2c29f",
   "metadata": {},
   "outputs": [],
   "source": [
    "def count_frachuman_perslot(distribs, n_slots=5):\n",
    "    fracs = {}\n",
    "    for i in range(n_slots):\n",
    "        d_ishuman = [e[i]>0 for e in distribs]\n",
    "        fracs[i] = (sum(d_ishuman)/len(d_ishuman))\n",
    "    return fracs\n",
    "\n",
    "def count_numhuman_perdistrib(distribs):\n",
    "    return pd.DataFrame([sum([e>0 for e in d]) for d in distribs]).value_counts()"
   ]
  },
  {
   "cell_type": "code",
   "execution_count": 3,
   "id": "457363ca-b824-4fe9-be57-87fdac82bbbe",
   "metadata": {},
   "outputs": [
    {
     "data": {
      "text/plain": [
       "{0: 0.5, 1: 1.0, 2: 1.0, 3: 0.5, 4: 1.0}"
      ]
     },
     "execution_count": 3,
     "metadata": {},
     "output_type": "execute_result"
    }
   ],
   "source": [
    "count_frachuman_perslot([(1,1,1,1,1),(0,1,1,0,1)])"
   ]
  },
  {
   "cell_type": "code",
   "execution_count": 4,
   "id": "d282de08-09db-40f2-b511-5715dc92d2d4",
   "metadata": {},
   "outputs": [
    {
     "data": {
      "text/plain": [
       "3    1\n",
       "5    1\n",
       "dtype: int64"
      ]
     },
     "execution_count": 4,
     "metadata": {},
     "output_type": "execute_result"
    }
   ],
   "source": [
    "count_numhuman_perdistrib([(1,1,1,1,1),(0,1,1,0,1)])"
   ]
  },
  {
   "cell_type": "markdown",
   "id": "208159f6-57bb-400b-b388-da629f3f2d7d",
   "metadata": {},
   "source": [
    "# test different distribution creators"
   ]
  },
  {
   "cell_type": "code",
   "execution_count": 5,
   "id": "1d80d511-cfa6-4eb1-82d2-a000c4b25a38",
   "metadata": {},
   "outputs": [
    {
     "name": "stdout",
     "output_type": "stream",
     "text": [
      "{0: 0.5166666666666667, 1: 0.48333333333333334, 2: 0.43333333333333335, 3: 0.48333333333333334, 4: 0.48333333333333334}\n",
      "3    20\n",
      "2    16\n",
      "1    12\n",
      "4    10\n",
      "0     2\n",
      "dtype: int64\n"
     ]
    }
   ],
   "source": [
    "n_cases = 60\n",
    "n_slots = 5\n",
    "\n",
    "def generate_iid(n_cases, n_slots):\n",
    "    generated = []\n",
    "    # create each option IID\n",
    "    for _ in range(n_cases):\n",
    "        generated.append(tuple( [random.getrandbits(1) for s in range(n_slots)] ))\n",
    "    return generated\n",
    "\n",
    "generated = generate_iid(n_cases, n_slots)\n",
    "print(count_frachuman_perslot(generated))\n",
    "print(count_numhuman_perdistrib(generated))"
   ]
  },
  {
   "cell_type": "code",
   "execution_count": 6,
   "id": "bbe6dce5-5e33-422d-b606-def123718990",
   "metadata": {},
   "outputs": [
    {
     "name": "stdout",
     "output_type": "stream",
     "text": [
      "{0: 0.5, 1: 0.5, 2: 0.5, 3: 0.5, 4: 0.5}\n",
      "3    21\n",
      "2    16\n",
      "1    10\n",
      "4    10\n",
      "0     2\n",
      "5     1\n",
      "dtype: int64\n"
     ]
    }
   ],
   "source": [
    "n_cases = 60\n",
    "n_slots = 5\n",
    "\n",
    "def generate_slotbalanced(n_cases, n_slots):\n",
    "    generated = []\n",
    "    # guarantee balanced distrib of frac_human per SLOT\n",
    "    quota_h = [int(n_cases/2) for _ in range(n_slots)]\n",
    "    quota_b = [int(n_cases/2) for _ in range(n_slots)]\n",
    "    for _ in range(n_cases):\n",
    "        attempt = [random.getrandbits(1) for s in range(n_slots)]\n",
    "        for i in range(len(attempt)):\n",
    "            if quota_h[i]==0:\n",
    "                attempt[i] = 0\n",
    "            if quota_b[i]==0:\n",
    "                attempt[i] = 1\n",
    "            quota_h[i] -= attempt[i]\n",
    "            quota_b[i] -= (1-attempt[i])\n",
    "        generated.append(tuple( attempt ))\n",
    "    return generated\n",
    "\n",
    "generated = generate_slotbalanced(n_cases, n_slots)\n",
    "print(count_frachuman_perslot(generated))\n",
    "print(count_numhuman_perdistrib(generated))"
   ]
  },
  {
   "cell_type": "code",
   "execution_count": 7,
   "id": "3b2d0bf0-681d-43a3-a589-d8619cf2ca9c",
   "metadata": {},
   "outputs": [
    {
     "name": "stdout",
     "output_type": "stream",
     "text": [
      "{0: 0.4666666666666667, 1: 0.4666666666666667, 2: 0.5, 3: 0.5833333333333334, 4: 0.48333333333333334}\n",
      "0    10\n",
      "1    10\n",
      "2    10\n",
      "3    10\n",
      "4    10\n",
      "5    10\n",
      "dtype: int64\n"
     ]
    }
   ],
   "source": [
    "n_cases = 60\n",
    "n_slots = 5\n",
    "\n",
    "def generate_distribbalanced(n_cases, n_slots):\n",
    "    generated = []\n",
    "    # guarantee balanced distrib of frac_human per DISTRIB\n",
    "    for num_h in range(n_slots+1):\n",
    "        # generate multiple distrib each containing num_h human options\n",
    "        unshuffled = [1 for _ in range(num_h)]+[0 for _ in range(n_slots-num_h)]\n",
    "        for i in range(int(n_cases/(n_slots+1))):\n",
    "            generated.append(tuple( random.sample(unshuffled, k=n_slots) ))\n",
    "    return generated\n",
    "\n",
    "generated = generate_distribbalanced(n_cases, n_slots)\n",
    "print(count_frachuman_perslot(generated))\n",
    "print(count_numhuman_perdistrib(generated))"
   ]
  },
  {
   "cell_type": "code",
   "execution_count": 8,
   "id": "8531be65-c3bb-4e28-8bef-ff145b38679e",
   "metadata": {},
   "outputs": [
    {
     "name": "stdout",
     "output_type": "stream",
     "text": [
      "{0: 0.5, 1: 0.5, 2: 0.5, 3: 0.5, 4: 0.5}\n",
      "3    12\n",
      "5    12\n",
      "0    10\n",
      "1    10\n",
      "2    10\n",
      "4     6\n",
      "dtype: int64\n"
     ]
    }
   ],
   "source": [
    "n_cases = 60\n",
    "n_slots = 5\n",
    "\n",
    "def generate_generalbalanced(n_cases, n_slots):\n",
    "    generated = []\n",
    "    # guarantee balanced distrib of frac_human per DISTRIB+SLOT\n",
    "    quota_h = [int(n_cases/2) for _ in range(n_slots)]\n",
    "    quota_b = [int(n_cases/2) for _ in range(n_slots)]\n",
    "    for num_h in range(n_slots+1):\n",
    "        # generate multiple distrib each containing num_h human options\n",
    "        unshuffled = [1 for _ in range(num_h)]+[0 for _ in range(n_slots-num_h)]\n",
    "        for i in range(int(n_cases/(n_slots+1))):\n",
    "            attempt = random.sample(unshuffled, k=n_slots)\n",
    "            for i in range(len(attempt)):\n",
    "                if quota_h[i]==0:\n",
    "                    attempt[i] = 0\n",
    "                if quota_b[i]==0:\n",
    "                    attempt[i] = 1\n",
    "                quota_h[i] -= attempt[i]\n",
    "                quota_b[i] -= (1-attempt[i])\n",
    "            generated.append(tuple( attempt ))\n",
    "    return generated\n",
    "\n",
    "generated = generate_generalbalanced(n_cases, n_slots)\n",
    "print(count_frachuman_perslot(generated))\n",
    "print(count_numhuman_perdistrib(generated))"
   ]
  },
  {
   "cell_type": "code",
   "execution_count": 9,
   "id": "e28378ad-eda9-4fcf-b08b-152a33321c52",
   "metadata": {},
   "outputs": [
    {
     "name": "stdout",
     "output_type": "stream",
     "text": [
      "{0: 0.5, 1: 0.5, 2: 0.5, 3: 0.5, 4: 0.5}\n",
      "2    20\n",
      "3    20\n",
      "1    10\n",
      "4    10\n",
      "dtype: int64\n"
     ]
    }
   ],
   "source": [
    "n_cases = 60\n",
    "n_slots = 5\n",
    "\n",
    "def generate_thoroughly(n_cases, n_slots):\n",
    "    generated = []\n",
    "    # brute force through every possible combination (do not include all-same-author options)\n",
    "    counter = 0\n",
    "    for _ in range(n_cases):\n",
    "        attempt = tuple([int(c) for c in ('{0:0'+str(n_slots)+'b}').format(counter)][-5:])\n",
    "        while sum(attempt)==0 or sum(attempt)>=n_slots:\n",
    "            counter += 1\n",
    "            attempt = tuple([int(c) for c in ('{0:0'+str(n_slots)+'b}').format(counter)][-5:])\n",
    "        generated.append( attempt )\n",
    "        counter += 1\n",
    "    return generated\n",
    "\n",
    "generated = generate_thoroughly(n_cases, n_slots)\n",
    "print(count_frachuman_perslot(generated))\n",
    "print(count_numhuman_perdistrib(generated))"
   ]
  },
  {
   "cell_type": "markdown",
   "id": "bd60efae-9c6c-4d30-acf2-fcd5a46e09dd",
   "metadata": {},
   "source": [
    "# create CSV of survey links"
   ]
  },
  {
   "cell_type": "code",
   "execution_count": null,
   "id": "68d2aff2-1691-4756-b736-d1b4d121dc1f",
   "metadata": {},
   "outputs": [],
   "source": [
    "url_prefix = 'https://'\n",
    "url = 'cornell.ca1.qualtrics.com/jfe/form/XXXXXXXXXXXXXXXXXX' # # TODO: qualtrics survey mturk distribution link, removed for sharing purposes\n",
    "\n",
    "# want the format in a csv file:\n",
    "#> SURVEY_LINK\n",
    "#> Hit1_SURVEY_LINK_data\n",
    "#> Hit2_SURVEY_LINK_data\n",
    "#> Hit3_SURVEY_LINK_data\n",
    "\n",
    "# This creates a size-30 set of parameters for every possible permutation of human vs. bot\n",
    "generated = generate_thoroughly(30, 5)\n",
    "\n",
    "# Transform parameters into a list of dict objects defining sets of parameters\n",
    "def transform_params(gen, x_value, randomize_ae_values=False, randomize_ae_range_incl=(1,5), seed=0):\n",
    "    gen = gen.copy()\n",
    "    param_manual = ['param_x']\n",
    "    param_tuples = ['param_a', 'param_b', 'param_c', 'param_d', 'param_e']\n",
    "    # first apply randomized values for param_a through param_e if applicable\n",
    "    if randomize_ae_values:\n",
    "        # for each of the elements in param_tuples, grab indices for all values!=0 and split into equal size buckets\n",
    "        # so that each int within randomize_ae_range_incl represents one bucket\n",
    "        random.seed(seed)\n",
    "        ae_label_range = list(range(randomize_ae_range_incl[0], randomize_ae_range_incl[1]+1))\n",
    "        for p_x in range(len(param_tuples)):\n",
    "            # pick out which indices are relevant to each param name\n",
    "            p_ixs = [i for i in range(len(gen)) if gen[i][p_x]!=0]\n",
    "            # Check if the labels can be evenly assigned. If not, quit\n",
    "            num_repeat = len(p_ixs)/len(ae_label_range)\n",
    "            if num_repeat!=int(num_repeat):\n",
    "                raise ValueError(f'you sure this is OK?: {p_ixs}, {ae_label_range}')\n",
    "            num_repeat = int(num_repeat)\n",
    "            # assign labels to shuffled indices\n",
    "            random.shuffle(p_ixs)\n",
    "            p_ixs_labels = list(zip(p_ixs, ae_label_range*num_repeat))\n",
    "            for ix, newval in p_ixs_labels:\n",
    "                gen[ix] = tuple([(gen[ix][i] if i!=p_x else newval) for i in range(len(gen[ix]))])\n",
    "    # then create the list\n",
    "    output = []\n",
    "    for e in gen:\n",
    "        output.append(dict(zip(param_manual+param_tuples, [x_value]+list(e))))\n",
    "    return output\n",
    "\n",
    "generated_params = []\n",
    "# generated_params = generated_params+transform_params(generated, 0, randomize_ae_values=True, seed=10)\n",
    "# generated_params = generated_params+transform_params(generated, 1, randomize_ae_values=True, seed=10)\n",
    "generated_params = generated_params+transform_params(generated, 0, randomize_ae_values=True, seed=11)\n",
    "generated_params = generated_params+transform_params(generated, 1, randomize_ae_values=True, seed=11)\n",
    "# generated_params = generated_params+transform_params(generated, 0, randomize_ae_values=True, seed=12)\n",
    "# generated_params = generated_params+transform_params(generated, 1, randomize_ae_values=True, seed=12)\n",
    "# generated_params = generated_params+transform_params(generated, 0, randomize_ae_values=True, seed=13)\n",
    "# generated_params = generated_params+transform_params(generated, 1, randomize_ae_values=True, seed=13)\n",
    "\n",
    "def to_url(url, params, htmlescaped=False):\n",
    "    str_param = '&'.join([e+'='+str(params[e]) for e in params.keys()])\n",
    "    if htmlescaped:\n",
    "        str_param = '&amp;'.join([e+'='+str(params[e]) for e in params.keys()])\n",
    "    return url+'?'+str_param\n",
    "\n",
    "csv_output = pd.DataFrame({'SURVEY_LINK':[], 'DISPLAY_LINK':[]})\n",
    "for e in generated_params:\n",
    "    csv_output = pd.concat([\n",
    "        csv_output,\n",
    "        pd.DataFrame({'SURVEY_LINK':[\n",
    "            to_url(url, e), \n",
    "        ], 'DISPLAY_LINK':[\n",
    "            to_url(url, e, htmlescaped=True), \n",
    "        ]})\n",
    "    ], ignore_index=True)\n",
    "\n",
    "csv_output.to_csv('mturk_urls.csv', index=False)\n",
    "csv_output[:5]"
   ]
  },
  {
   "cell_type": "code",
   "execution_count": null,
   "id": "2370e445-c68c-4195-9716-05b5594c11f1",
   "metadata": {},
   "outputs": [],
   "source": []
  }
 ],
 "metadata": {
  "kernelspec": {
   "display_name": "Python 3 (ipykernel)",
   "language": "python",
   "name": "python3"
  },
  "language_info": {
   "codemirror_mode": {
    "name": "ipython",
    "version": 3
   },
   "file_extension": ".py",
   "mimetype": "text/x-python",
   "name": "python",
   "nbconvert_exporter": "python",
   "pygments_lexer": "ipython3",
   "version": "3.10.5"
  }
 },
 "nbformat": 4,
 "nbformat_minor": 5
}
